{
 "cells": [
  {
   "cell_type": "markdown",
   "metadata": {},
   "source": [
    "<b>1. Tahap Persiapan"
   ]
  },
  {
   "cell_type": "code",
   "execution_count": 1,
   "metadata": {},
   "outputs": [],
   "source": [
    "import numpy as np\n",
    "import matplotlib.pyplot as plt\n",
    "import pandas as pd \n",
    "import seaborn as sns"
   ]
  },
  {
   "cell_type": "markdown",
   "metadata": {},
   "source": [
    "<b>2. Gathering data"
   ]
  },
  {
   "cell_type": "markdown",
   "metadata": {},
   "source": [
    "2.1. Load data customer"
   ]
  },
  {
   "cell_type": "code",
   "execution_count": 32,
   "metadata": {},
   "outputs": [
    {
     "data": {
      "text/html": [
       "<div>\n",
       "<style scoped>\n",
       "    .dataframe tbody tr th:only-of-type {\n",
       "        vertical-align: middle;\n",
       "    }\n",
       "\n",
       "    .dataframe tbody tr th {\n",
       "        vertical-align: top;\n",
       "    }\n",
       "\n",
       "    .dataframe thead th {\n",
       "        text-align: right;\n",
       "    }\n",
       "</style>\n",
       "<table border=\"1\" class=\"dataframe\">\n",
       "  <thead>\n",
       "    <tr style=\"text-align: right;\">\n",
       "      <th></th>\n",
       "      <th>customer_id</th>\n",
       "      <th>customer_name</th>\n",
       "      <th>gender</th>\n",
       "      <th>age</th>\n",
       "      <th>home_address</th>\n",
       "      <th>zip_code</th>\n",
       "      <th>city</th>\n",
       "      <th>state</th>\n",
       "      <th>country</th>\n",
       "    </tr>\n",
       "  </thead>\n",
       "  <tbody>\n",
       "    <tr>\n",
       "      <th>0</th>\n",
       "      <td>1</td>\n",
       "      <td>fulan 1</td>\n",
       "      <td>Female</td>\n",
       "      <td>30</td>\n",
       "      <td>8606 Victoria TerraceSuite 560</td>\n",
       "      <td>5464</td>\n",
       "      <td>Johnstonhaven</td>\n",
       "      <td>Northern Territory</td>\n",
       "      <td>Australia</td>\n",
       "    </tr>\n",
       "    <tr>\n",
       "      <th>1</th>\n",
       "      <td>2</td>\n",
       "      <td>fulan 2</td>\n",
       "      <td>Prefer not to say</td>\n",
       "      <td>69</td>\n",
       "      <td>8327 Kirlin SummitApt. 461</td>\n",
       "      <td>8223</td>\n",
       "      <td>New Zacharyfort</td>\n",
       "      <td>South Australia</td>\n",
       "      <td>Australia</td>\n",
       "    </tr>\n",
       "    <tr>\n",
       "      <th>2</th>\n",
       "      <td>3</td>\n",
       "      <td>fulan 3</td>\n",
       "      <td>Prefer not to say</td>\n",
       "      <td>59</td>\n",
       "      <td>269 Gemma SummitSuite 109</td>\n",
       "      <td>5661</td>\n",
       "      <td>Aliburgh</td>\n",
       "      <td>Australian Capital Territory</td>\n",
       "      <td>Australia</td>\n",
       "    </tr>\n",
       "    <tr>\n",
       "      <th>3</th>\n",
       "      <td>4</td>\n",
       "      <td>fulan 4</td>\n",
       "      <td>Prefer not to say</td>\n",
       "      <td>67</td>\n",
       "      <td>743 Bailey GroveSuite 141</td>\n",
       "      <td>1729</td>\n",
       "      <td>South Justinhaven</td>\n",
       "      <td>Queensland</td>\n",
       "      <td>Australia</td>\n",
       "    </tr>\n",
       "    <tr>\n",
       "      <th>4</th>\n",
       "      <td>5</td>\n",
       "      <td>fulan 5</td>\n",
       "      <td>Prefer not to say</td>\n",
       "      <td>30</td>\n",
       "      <td>48 Hyatt ManorSuite 375</td>\n",
       "      <td>4032</td>\n",
       "      <td>Griffithsshire</td>\n",
       "      <td>Queensland</td>\n",
       "      <td>Australia</td>\n",
       "    </tr>\n",
       "  </tbody>\n",
       "</table>\n",
       "</div>"
      ],
      "text/plain": [
       "   customer_id customer_name             gender  age  \\\n",
       "0            1       fulan 1             Female   30   \n",
       "1            2       fulan 2  Prefer not to say   69   \n",
       "2            3       fulan 3  Prefer not to say   59   \n",
       "3            4       fulan 4  Prefer not to say   67   \n",
       "4            5       fulan 5  Prefer not to say   30   \n",
       "\n",
       "                     home_address  zip_code               city  \\\n",
       "0  8606 Victoria TerraceSuite 560      5464      Johnstonhaven   \n",
       "1      8327 Kirlin SummitApt. 461      8223    New Zacharyfort   \n",
       "2       269 Gemma SummitSuite 109      5661           Aliburgh   \n",
       "3       743 Bailey GroveSuite 141      1729  South Justinhaven   \n",
       "4         48 Hyatt ManorSuite 375      4032     Griffithsshire   \n",
       "\n",
       "                          state    country  \n",
       "0            Northern Territory  Australia  \n",
       "1               South Australia  Australia  \n",
       "2  Australian Capital Territory  Australia  \n",
       "3                    Queensland  Australia  \n",
       "4                    Queensland  Australia  "
      ]
     },
     "execution_count": 32,
     "metadata": {},
     "output_type": "execute_result"
    }
   ],
   "source": [
    "customer_df=pd.read_csv('customers.csv')\n",
    "customer_df.head()"
   ]
  },
  {
   "cell_type": "markdown",
   "metadata": {},
   "source": [
    "2.2. Load data orders"
   ]
  },
  {
   "cell_type": "code",
   "execution_count": 3,
   "metadata": {},
   "outputs": [
    {
     "data": {
      "text/html": [
       "<div>\n",
       "<style scoped>\n",
       "    .dataframe tbody tr th:only-of-type {\n",
       "        vertical-align: middle;\n",
       "    }\n",
       "\n",
       "    .dataframe tbody tr th {\n",
       "        vertical-align: top;\n",
       "    }\n",
       "\n",
       "    .dataframe thead th {\n",
       "        text-align: right;\n",
       "    }\n",
       "</style>\n",
       "<table border=\"1\" class=\"dataframe\">\n",
       "  <thead>\n",
       "    <tr style=\"text-align: right;\">\n",
       "      <th></th>\n",
       "      <th>order_id</th>\n",
       "      <th>customer_id</th>\n",
       "      <th>payment</th>\n",
       "      <th>order_date</th>\n",
       "      <th>delivery_date</th>\n",
       "    </tr>\n",
       "  </thead>\n",
       "  <tbody>\n",
       "    <tr>\n",
       "      <th>0</th>\n",
       "      <td>1</td>\n",
       "      <td>64</td>\n",
       "      <td>30811</td>\n",
       "      <td>2021-8-30</td>\n",
       "      <td>2021-09-24</td>\n",
       "    </tr>\n",
       "    <tr>\n",
       "      <th>1</th>\n",
       "      <td>2</td>\n",
       "      <td>473</td>\n",
       "      <td>50490</td>\n",
       "      <td>2021-2-3</td>\n",
       "      <td>2021-02-13</td>\n",
       "    </tr>\n",
       "    <tr>\n",
       "      <th>2</th>\n",
       "      <td>3</td>\n",
       "      <td>774</td>\n",
       "      <td>46763</td>\n",
       "      <td>2021-10-8</td>\n",
       "      <td>2021-11-03</td>\n",
       "    </tr>\n",
       "    <tr>\n",
       "      <th>3</th>\n",
       "      <td>4</td>\n",
       "      <td>433</td>\n",
       "      <td>39782</td>\n",
       "      <td>2021-5-6</td>\n",
       "      <td>2021-05-19</td>\n",
       "    </tr>\n",
       "    <tr>\n",
       "      <th>4</th>\n",
       "      <td>5</td>\n",
       "      <td>441</td>\n",
       "      <td>14719</td>\n",
       "      <td>2021-3-23</td>\n",
       "      <td>2021-03-24</td>\n",
       "    </tr>\n",
       "  </tbody>\n",
       "</table>\n",
       "</div>"
      ],
      "text/plain": [
       "   order_id  customer_id  payment order_date delivery_date\n",
       "0         1           64    30811  2021-8-30    2021-09-24\n",
       "1         2          473    50490   2021-2-3    2021-02-13\n",
       "2         3          774    46763  2021-10-8    2021-11-03\n",
       "3         4          433    39782   2021-5-6    2021-05-19\n",
       "4         5          441    14719  2021-3-23    2021-03-24"
      ]
     },
     "execution_count": 3,
     "metadata": {},
     "output_type": "execute_result"
    }
   ],
   "source": [
    "orders_df=pd.read_csv('orders.csv')\n",
    "orders_df.head()"
   ]
  },
  {
   "cell_type": "markdown",
   "metadata": {},
   "source": [
    "2.3. Load data products"
   ]
  },
  {
   "cell_type": "code",
   "execution_count": 4,
   "metadata": {},
   "outputs": [
    {
     "data": {
      "text/html": [
       "<div>\n",
       "<style scoped>\n",
       "    .dataframe tbody tr th:only-of-type {\n",
       "        vertical-align: middle;\n",
       "    }\n",
       "\n",
       "    .dataframe tbody tr th {\n",
       "        vertical-align: top;\n",
       "    }\n",
       "\n",
       "    .dataframe thead th {\n",
       "        text-align: right;\n",
       "    }\n",
       "</style>\n",
       "<table border=\"1\" class=\"dataframe\">\n",
       "  <thead>\n",
       "    <tr style=\"text-align: right;\">\n",
       "      <th></th>\n",
       "      <th>product_id</th>\n",
       "      <th>product_type</th>\n",
       "      <th>product_name</th>\n",
       "      <th>size</th>\n",
       "      <th>colour</th>\n",
       "      <th>price</th>\n",
       "      <th>quantity</th>\n",
       "      <th>description</th>\n",
       "    </tr>\n",
       "  </thead>\n",
       "  <tbody>\n",
       "    <tr>\n",
       "      <th>0</th>\n",
       "      <td>0</td>\n",
       "      <td>Shirt</td>\n",
       "      <td>Oxford Cloth</td>\n",
       "      <td>XS</td>\n",
       "      <td>red</td>\n",
       "      <td>114</td>\n",
       "      <td>66</td>\n",
       "      <td>A red coloured, XS sized, Oxford Cloth Shirt</td>\n",
       "    </tr>\n",
       "    <tr>\n",
       "      <th>1</th>\n",
       "      <td>1</td>\n",
       "      <td>Shirt</td>\n",
       "      <td>Oxford Cloth</td>\n",
       "      <td>S</td>\n",
       "      <td>red</td>\n",
       "      <td>114</td>\n",
       "      <td>53</td>\n",
       "      <td>A red coloured, S sized, Oxford Cloth Shirt</td>\n",
       "    </tr>\n",
       "    <tr>\n",
       "      <th>2</th>\n",
       "      <td>2</td>\n",
       "      <td>Shirt</td>\n",
       "      <td>Oxford Cloth</td>\n",
       "      <td>M</td>\n",
       "      <td>red</td>\n",
       "      <td>114</td>\n",
       "      <td>54</td>\n",
       "      <td>A red coloured, M sized, Oxford Cloth Shirt</td>\n",
       "    </tr>\n",
       "    <tr>\n",
       "      <th>3</th>\n",
       "      <td>3</td>\n",
       "      <td>Shirt</td>\n",
       "      <td>Oxford Cloth</td>\n",
       "      <td>L</td>\n",
       "      <td>red</td>\n",
       "      <td>114</td>\n",
       "      <td>69</td>\n",
       "      <td>A red coloured, L sized, Oxford Cloth Shirt</td>\n",
       "    </tr>\n",
       "    <tr>\n",
       "      <th>4</th>\n",
       "      <td>4</td>\n",
       "      <td>Shirt</td>\n",
       "      <td>Oxford Cloth</td>\n",
       "      <td>XL</td>\n",
       "      <td>red</td>\n",
       "      <td>114</td>\n",
       "      <td>47</td>\n",
       "      <td>A red coloured, XL sized, Oxford Cloth Shirt</td>\n",
       "    </tr>\n",
       "  </tbody>\n",
       "</table>\n",
       "</div>"
      ],
      "text/plain": [
       "   product_id product_type  product_name size colour  price  quantity  \\\n",
       "0           0        Shirt  Oxford Cloth   XS    red    114        66   \n",
       "1           1        Shirt  Oxford Cloth    S    red    114        53   \n",
       "2           2        Shirt  Oxford Cloth    M    red    114        54   \n",
       "3           3        Shirt  Oxford Cloth    L    red    114        69   \n",
       "4           4        Shirt  Oxford Cloth   XL    red    114        47   \n",
       "\n",
       "                                    description  \n",
       "0  A red coloured, XS sized, Oxford Cloth Shirt  \n",
       "1   A red coloured, S sized, Oxford Cloth Shirt  \n",
       "2   A red coloured, M sized, Oxford Cloth Shirt  \n",
       "3   A red coloured, L sized, Oxford Cloth Shirt  \n",
       "4  A red coloured, XL sized, Oxford Cloth Shirt  "
      ]
     },
     "execution_count": 4,
     "metadata": {},
     "output_type": "execute_result"
    }
   ],
   "source": [
    "products_df=pd.read_csv('products.csv')\n",
    "products_df.head()"
   ]
  },
  {
   "cell_type": "markdown",
   "metadata": {},
   "source": [
    "2.4. Load data sales"
   ]
  },
  {
   "cell_type": "code",
   "execution_count": 5,
   "metadata": {},
   "outputs": [
    {
     "data": {
      "text/html": [
       "<div>\n",
       "<style scoped>\n",
       "    .dataframe tbody tr th:only-of-type {\n",
       "        vertical-align: middle;\n",
       "    }\n",
       "\n",
       "    .dataframe tbody tr th {\n",
       "        vertical-align: top;\n",
       "    }\n",
       "\n",
       "    .dataframe thead th {\n",
       "        text-align: right;\n",
       "    }\n",
       "</style>\n",
       "<table border=\"1\" class=\"dataframe\">\n",
       "  <thead>\n",
       "    <tr style=\"text-align: right;\">\n",
       "      <th></th>\n",
       "      <th>sales_id</th>\n",
       "      <th>order_id</th>\n",
       "      <th>product_id</th>\n",
       "      <th>price_per_unit</th>\n",
       "      <th>quantity</th>\n",
       "      <th>total_price</th>\n",
       "    </tr>\n",
       "  </thead>\n",
       "  <tbody>\n",
       "    <tr>\n",
       "      <th>0</th>\n",
       "      <td>0</td>\n",
       "      <td>1</td>\n",
       "      <td>218</td>\n",
       "      <td>106</td>\n",
       "      <td>2</td>\n",
       "      <td>212.0</td>\n",
       "    </tr>\n",
       "    <tr>\n",
       "      <th>1</th>\n",
       "      <td>1</td>\n",
       "      <td>1</td>\n",
       "      <td>481</td>\n",
       "      <td>118</td>\n",
       "      <td>1</td>\n",
       "      <td>118.0</td>\n",
       "    </tr>\n",
       "    <tr>\n",
       "      <th>2</th>\n",
       "      <td>2</td>\n",
       "      <td>1</td>\n",
       "      <td>2</td>\n",
       "      <td>96</td>\n",
       "      <td>3</td>\n",
       "      <td>288.0</td>\n",
       "    </tr>\n",
       "    <tr>\n",
       "      <th>3</th>\n",
       "      <td>3</td>\n",
       "      <td>1</td>\n",
       "      <td>1002</td>\n",
       "      <td>106</td>\n",
       "      <td>2</td>\n",
       "      <td>212.0</td>\n",
       "    </tr>\n",
       "    <tr>\n",
       "      <th>4</th>\n",
       "      <td>4</td>\n",
       "      <td>1</td>\n",
       "      <td>691</td>\n",
       "      <td>113</td>\n",
       "      <td>3</td>\n",
       "      <td>339.0</td>\n",
       "    </tr>\n",
       "  </tbody>\n",
       "</table>\n",
       "</div>"
      ],
      "text/plain": [
       "   sales_id  order_id  product_id  price_per_unit  quantity  total_price\n",
       "0         0         1         218             106         2        212.0\n",
       "1         1         1         481             118         1        118.0\n",
       "2         2         1           2              96         3        288.0\n",
       "3         3         1        1002             106         2        212.0\n",
       "4         4         1         691             113         3        339.0"
      ]
     },
     "execution_count": 5,
     "metadata": {},
     "output_type": "execute_result"
    }
   ],
   "source": [
    "sales_df=pd.read_csv('sales.csv')\n",
    "sales_df.head()"
   ]
  },
  {
   "cell_type": "markdown",
   "metadata": {},
   "source": [
    "<b>3. Assessing Data"
   ]
  },
  {
   "cell_type": "markdown",
   "metadata": {},
   "source": [
    "3.1. Menilai data customers_df"
   ]
  },
  {
   "cell_type": "code",
   "execution_count": 6,
   "metadata": {},
   "outputs": [
    {
     "name": "stdout",
     "output_type": "stream",
     "text": [
      "<class 'pandas.core.frame.DataFrame'>\n",
      "RangeIndex: 1007 entries, 0 to 1006\n",
      "Data columns (total 9 columns):\n",
      " #   Column         Non-Null Count  Dtype \n",
      "---  ------         --------------  ----- \n",
      " 0   customer_id    1007 non-null   int64 \n",
      " 1   customer_name  1007 non-null   object\n",
      " 2   gender         989 non-null    object\n",
      " 3   age            1007 non-null   int64 \n",
      " 4   home_address   1007 non-null   object\n",
      " 5   zip_code       1007 non-null   int64 \n",
      " 6   city           1007 non-null   object\n",
      " 7   state          1007 non-null   object\n",
      " 8   country        1007 non-null   object\n",
      "dtypes: int64(3), object(6)\n",
      "memory usage: 70.9+ KB\n"
     ]
    }
   ],
   "source": [
    "customer_df.info()"
   ]
  },
  {
   "cell_type": "code",
   "execution_count": 7,
   "metadata": {},
   "outputs": [
    {
     "data": {
      "text/plain": [
       "customer_id       0\n",
       "customer_name     0\n",
       "gender           18\n",
       "age               0\n",
       "home_address      0\n",
       "zip_code          0\n",
       "city              0\n",
       "state             0\n",
       "country           0\n",
       "dtype: int64"
      ]
     },
     "execution_count": 7,
     "metadata": {},
     "output_type": "execute_result"
    }
   ],
   "source": [
    "##cek missing value\n",
    "customer_df.isna().sum()"
   ]
  },
  {
   "cell_type": "code",
   "execution_count": 8,
   "metadata": {},
   "outputs": [
    {
     "name": "stdout",
     "output_type": "stream",
     "text": [
      "Jumalh duplikat pada data customer:  6\n"
     ]
    }
   ],
   "source": [
    "print(\"Jumalh duplikat pada data customer: \", customer_df.duplicated().sum())"
   ]
  },
  {
   "cell_type": "code",
   "execution_count": 9,
   "metadata": {},
   "outputs": [
    {
     "data": {
      "text/html": [
       "<div>\n",
       "<style scoped>\n",
       "    .dataframe tbody tr th:only-of-type {\n",
       "        vertical-align: middle;\n",
       "    }\n",
       "\n",
       "    .dataframe tbody tr th {\n",
       "        vertical-align: top;\n",
       "    }\n",
       "\n",
       "    .dataframe thead th {\n",
       "        text-align: right;\n",
       "    }\n",
       "</style>\n",
       "<table border=\"1\" class=\"dataframe\">\n",
       "  <thead>\n",
       "    <tr style=\"text-align: right;\">\n",
       "      <th></th>\n",
       "      <th>customer_id</th>\n",
       "      <th>age</th>\n",
       "      <th>zip_code</th>\n",
       "    </tr>\n",
       "  </thead>\n",
       "  <tbody>\n",
       "    <tr>\n",
       "      <th>count</th>\n",
       "      <td>1007.000000</td>\n",
       "      <td>1007.000000</td>\n",
       "      <td>1007.000000</td>\n",
       "    </tr>\n",
       "    <tr>\n",
       "      <th>mean</th>\n",
       "      <td>501.726912</td>\n",
       "      <td>50.929494</td>\n",
       "      <td>5012.538232</td>\n",
       "    </tr>\n",
       "    <tr>\n",
       "      <th>std</th>\n",
       "      <td>288.673238</td>\n",
       "      <td>30.516299</td>\n",
       "      <td>2885.836112</td>\n",
       "    </tr>\n",
       "    <tr>\n",
       "      <th>min</th>\n",
       "      <td>1.000000</td>\n",
       "      <td>20.000000</td>\n",
       "      <td>2.000000</td>\n",
       "    </tr>\n",
       "    <tr>\n",
       "      <th>25%</th>\n",
       "      <td>252.500000</td>\n",
       "      <td>34.000000</td>\n",
       "      <td>2403.500000</td>\n",
       "    </tr>\n",
       "    <tr>\n",
       "      <th>50%</th>\n",
       "      <td>502.000000</td>\n",
       "      <td>50.000000</td>\n",
       "      <td>5087.000000</td>\n",
       "    </tr>\n",
       "    <tr>\n",
       "      <th>75%</th>\n",
       "      <td>751.500000</td>\n",
       "      <td>65.000000</td>\n",
       "      <td>7493.500000</td>\n",
       "    </tr>\n",
       "    <tr>\n",
       "      <th>max</th>\n",
       "      <td>1000.000000</td>\n",
       "      <td>700.000000</td>\n",
       "      <td>9998.000000</td>\n",
       "    </tr>\n",
       "  </tbody>\n",
       "</table>\n",
       "</div>"
      ],
      "text/plain": [
       "       customer_id          age     zip_code\n",
       "count  1007.000000  1007.000000  1007.000000\n",
       "mean    501.726912    50.929494  5012.538232\n",
       "std     288.673238    30.516299  2885.836112\n",
       "min       1.000000    20.000000     2.000000\n",
       "25%     252.500000    34.000000  2403.500000\n",
       "50%     502.000000    50.000000  5087.000000\n",
       "75%     751.500000    65.000000  7493.500000\n",
       "max    1000.000000   700.000000  9998.000000"
      ]
     },
     "execution_count": 9,
     "metadata": {},
     "output_type": "execute_result"
    }
   ],
   "source": [
    "customer_df.describe()"
   ]
  },
  {
   "cell_type": "markdown",
   "metadata": {},
   "source": [
    "3.2 Menilai data orders_df"
   ]
  },
  {
   "cell_type": "code",
   "execution_count": 10,
   "metadata": {},
   "outputs": [
    {
     "name": "stdout",
     "output_type": "stream",
     "text": [
      "<class 'pandas.core.frame.DataFrame'>\n",
      "RangeIndex: 1000 entries, 0 to 999\n",
      "Data columns (total 5 columns):\n",
      " #   Column         Non-Null Count  Dtype \n",
      "---  ------         --------------  ----- \n",
      " 0   order_id       1000 non-null   int64 \n",
      " 1   customer_id    1000 non-null   int64 \n",
      " 2   payment        1000 non-null   int64 \n",
      " 3   order_date     1000 non-null   object\n",
      " 4   delivery_date  1000 non-null   object\n",
      "dtypes: int64(3), object(2)\n",
      "memory usage: 39.2+ KB\n"
     ]
    }
   ],
   "source": [
    "orders_df.info()"
   ]
  },
  {
   "cell_type": "code",
   "execution_count": 11,
   "metadata": {},
   "outputs": [
    {
     "name": "stdout",
     "output_type": "stream",
     "text": [
      "Jumlah duplikat pada data orders:  0\n"
     ]
    }
   ],
   "source": [
    "print(\"Jumlah duplikat pada data orders: \", orders_df.duplicated().sum())"
   ]
  },
  {
   "cell_type": "code",
   "execution_count": 12,
   "metadata": {},
   "outputs": [
    {
     "data": {
      "text/html": [
       "<div>\n",
       "<style scoped>\n",
       "    .dataframe tbody tr th:only-of-type {\n",
       "        vertical-align: middle;\n",
       "    }\n",
       "\n",
       "    .dataframe tbody tr th {\n",
       "        vertical-align: top;\n",
       "    }\n",
       "\n",
       "    .dataframe thead th {\n",
       "        text-align: right;\n",
       "    }\n",
       "</style>\n",
       "<table border=\"1\" class=\"dataframe\">\n",
       "  <thead>\n",
       "    <tr style=\"text-align: right;\">\n",
       "      <th></th>\n",
       "      <th>order_id</th>\n",
       "      <th>customer_id</th>\n",
       "      <th>payment</th>\n",
       "    </tr>\n",
       "  </thead>\n",
       "  <tbody>\n",
       "    <tr>\n",
       "      <th>count</th>\n",
       "      <td>1000.000000</td>\n",
       "      <td>1000.000000</td>\n",
       "      <td>1000.000000</td>\n",
       "    </tr>\n",
       "    <tr>\n",
       "      <th>mean</th>\n",
       "      <td>500.500000</td>\n",
       "      <td>506.640000</td>\n",
       "      <td>33972.936000</td>\n",
       "    </tr>\n",
       "    <tr>\n",
       "      <th>std</th>\n",
       "      <td>288.819436</td>\n",
       "      <td>277.115502</td>\n",
       "      <td>14451.609047</td>\n",
       "    </tr>\n",
       "    <tr>\n",
       "      <th>min</th>\n",
       "      <td>1.000000</td>\n",
       "      <td>1.000000</td>\n",
       "      <td>10043.000000</td>\n",
       "    </tr>\n",
       "    <tr>\n",
       "      <th>25%</th>\n",
       "      <td>250.750000</td>\n",
       "      <td>275.250000</td>\n",
       "      <td>21329.250000</td>\n",
       "    </tr>\n",
       "    <tr>\n",
       "      <th>50%</th>\n",
       "      <td>500.500000</td>\n",
       "      <td>515.000000</td>\n",
       "      <td>33697.500000</td>\n",
       "    </tr>\n",
       "    <tr>\n",
       "      <th>75%</th>\n",
       "      <td>750.250000</td>\n",
       "      <td>737.250000</td>\n",
       "      <td>46249.000000</td>\n",
       "    </tr>\n",
       "    <tr>\n",
       "      <th>max</th>\n",
       "      <td>1000.000000</td>\n",
       "      <td>1000.000000</td>\n",
       "      <td>59910.000000</td>\n",
       "    </tr>\n",
       "  </tbody>\n",
       "</table>\n",
       "</div>"
      ],
      "text/plain": [
       "          order_id  customer_id       payment\n",
       "count  1000.000000  1000.000000   1000.000000\n",
       "mean    500.500000   506.640000  33972.936000\n",
       "std     288.819436   277.115502  14451.609047\n",
       "min       1.000000     1.000000  10043.000000\n",
       "25%     250.750000   275.250000  21329.250000\n",
       "50%     500.500000   515.000000  33697.500000\n",
       "75%     750.250000   737.250000  46249.000000\n",
       "max    1000.000000  1000.000000  59910.000000"
      ]
     },
     "execution_count": 12,
     "metadata": {},
     "output_type": "execute_result"
    }
   ],
   "source": [
    "orders_df.describe()"
   ]
  },
  {
   "cell_type": "markdown",
   "metadata": {},
   "source": [
    "3.2. Menilai data products_df"
   ]
  },
  {
   "cell_type": "code",
   "execution_count": 13,
   "metadata": {},
   "outputs": [
    {
     "name": "stdout",
     "output_type": "stream",
     "text": [
      "<class 'pandas.core.frame.DataFrame'>\n",
      "RangeIndex: 1266 entries, 0 to 1265\n",
      "Data columns (total 8 columns):\n",
      " #   Column        Non-Null Count  Dtype \n",
      "---  ------        --------------  ----- \n",
      " 0   product_id    1266 non-null   int64 \n",
      " 1   product_type  1266 non-null   object\n",
      " 2   product_name  1266 non-null   object\n",
      " 3   size          1266 non-null   object\n",
      " 4   colour        1266 non-null   object\n",
      " 5   price         1266 non-null   int64 \n",
      " 6   quantity      1266 non-null   int64 \n",
      " 7   description   1266 non-null   object\n",
      "dtypes: int64(3), object(5)\n",
      "memory usage: 79.2+ KB\n"
     ]
    }
   ],
   "source": [
    "products_df.info()"
   ]
  },
  {
   "cell_type": "markdown",
   "metadata": {},
   "source": [
    "3.3. Menilai Data sales_df"
   ]
  },
  {
   "cell_type": "code",
   "execution_count": 14,
   "metadata": {},
   "outputs": [
    {
     "name": "stdout",
     "output_type": "stream",
     "text": [
      "<class 'pandas.core.frame.DataFrame'>\n",
      "RangeIndex: 5000 entries, 0 to 4999\n",
      "Data columns (total 6 columns):\n",
      " #   Column          Non-Null Count  Dtype  \n",
      "---  ------          --------------  -----  \n",
      " 0   sales_id        5000 non-null   int64  \n",
      " 1   order_id        5000 non-null   int64  \n",
      " 2   product_id      5000 non-null   int64  \n",
      " 3   price_per_unit  5000 non-null   int64  \n",
      " 4   quantity        5000 non-null   int64  \n",
      " 5   total_price     4981 non-null   float64\n",
      "dtypes: float64(1), int64(5)\n",
      "memory usage: 234.5 KB\n"
     ]
    }
   ],
   "source": [
    "sales_df.info()"
   ]
  },
  {
   "cell_type": "code",
   "execution_count": 16,
   "metadata": {},
   "outputs": [
    {
     "data": {
      "text/plain": [
       "sales_id           0\n",
       "order_id           0\n",
       "product_id         0\n",
       "price_per_unit     0\n",
       "quantity           0\n",
       "total_price       19\n",
       "dtype: int64"
      ]
     },
     "execution_count": 16,
     "metadata": {},
     "output_type": "execute_result"
    }
   ],
   "source": [
    "##cek missing value\n",
    "sales_df.isna().sum()"
   ]
  },
  {
   "cell_type": "code",
   "execution_count": 18,
   "metadata": {},
   "outputs": [
    {
     "name": "stdout",
     "output_type": "stream",
     "text": [
      "Jumlah duplikat pada data sales:  0\n"
     ]
    }
   ],
   "source": [
    "## cek duplikasi data\n",
    "print(\"Jumlah duplikat pada data sales: \", sales_df.duplicated().sum())"
   ]
  },
  {
   "cell_type": "code",
   "execution_count": 19,
   "metadata": {},
   "outputs": [
    {
     "data": {
      "text/html": [
       "<div>\n",
       "<style scoped>\n",
       "    .dataframe tbody tr th:only-of-type {\n",
       "        vertical-align: middle;\n",
       "    }\n",
       "\n",
       "    .dataframe tbody tr th {\n",
       "        vertical-align: top;\n",
       "    }\n",
       "\n",
       "    .dataframe thead th {\n",
       "        text-align: right;\n",
       "    }\n",
       "</style>\n",
       "<table border=\"1\" class=\"dataframe\">\n",
       "  <thead>\n",
       "    <tr style=\"text-align: right;\">\n",
       "      <th></th>\n",
       "      <th>sales_id</th>\n",
       "      <th>order_id</th>\n",
       "      <th>product_id</th>\n",
       "      <th>price_per_unit</th>\n",
       "      <th>quantity</th>\n",
       "      <th>total_price</th>\n",
       "    </tr>\n",
       "  </thead>\n",
       "  <tbody>\n",
       "    <tr>\n",
       "      <th>count</th>\n",
       "      <td>5000.000000</td>\n",
       "      <td>5000.000000</td>\n",
       "      <td>5000.000000</td>\n",
       "      <td>5000.000000</td>\n",
       "      <td>5000.00000</td>\n",
       "      <td>4981.000000</td>\n",
       "    </tr>\n",
       "    <tr>\n",
       "      <th>mean</th>\n",
       "      <td>2499.500000</td>\n",
       "      <td>503.038200</td>\n",
       "      <td>634.053200</td>\n",
       "      <td>103.501600</td>\n",
       "      <td>1.99240</td>\n",
       "      <td>206.307368</td>\n",
       "    </tr>\n",
       "    <tr>\n",
       "      <th>std</th>\n",
       "      <td>1443.520003</td>\n",
       "      <td>285.964418</td>\n",
       "      <td>363.255794</td>\n",
       "      <td>9.195004</td>\n",
       "      <td>0.80751</td>\n",
       "      <td>86.352449</td>\n",
       "    </tr>\n",
       "    <tr>\n",
       "      <th>min</th>\n",
       "      <td>0.000000</td>\n",
       "      <td>1.000000</td>\n",
       "      <td>1.000000</td>\n",
       "      <td>90.000000</td>\n",
       "      <td>1.00000</td>\n",
       "      <td>90.000000</td>\n",
       "    </tr>\n",
       "    <tr>\n",
       "      <th>25%</th>\n",
       "      <td>1249.750000</td>\n",
       "      <td>258.000000</td>\n",
       "      <td>323.000000</td>\n",
       "      <td>95.000000</td>\n",
       "      <td>1.00000</td>\n",
       "      <td>112.000000</td>\n",
       "    </tr>\n",
       "    <tr>\n",
       "      <th>50%</th>\n",
       "      <td>2499.500000</td>\n",
       "      <td>504.500000</td>\n",
       "      <td>635.000000</td>\n",
       "      <td>102.000000</td>\n",
       "      <td>2.00000</td>\n",
       "      <td>204.000000</td>\n",
       "    </tr>\n",
       "    <tr>\n",
       "      <th>75%</th>\n",
       "      <td>3749.250000</td>\n",
       "      <td>749.000000</td>\n",
       "      <td>951.000000</td>\n",
       "      <td>112.000000</td>\n",
       "      <td>3.00000</td>\n",
       "      <td>285.000000</td>\n",
       "    </tr>\n",
       "    <tr>\n",
       "      <th>max</th>\n",
       "      <td>4999.000000</td>\n",
       "      <td>999.000000</td>\n",
       "      <td>1259.000000</td>\n",
       "      <td>119.000000</td>\n",
       "      <td>3.00000</td>\n",
       "      <td>357.000000</td>\n",
       "    </tr>\n",
       "  </tbody>\n",
       "</table>\n",
       "</div>"
      ],
      "text/plain": [
       "          sales_id     order_id   product_id  price_per_unit    quantity  \\\n",
       "count  5000.000000  5000.000000  5000.000000     5000.000000  5000.00000   \n",
       "mean   2499.500000   503.038200   634.053200      103.501600     1.99240   \n",
       "std    1443.520003   285.964418   363.255794        9.195004     0.80751   \n",
       "min       0.000000     1.000000     1.000000       90.000000     1.00000   \n",
       "25%    1249.750000   258.000000   323.000000       95.000000     1.00000   \n",
       "50%    2499.500000   504.500000   635.000000      102.000000     2.00000   \n",
       "75%    3749.250000   749.000000   951.000000      112.000000     3.00000   \n",
       "max    4999.000000   999.000000  1259.000000      119.000000     3.00000   \n",
       "\n",
       "       total_price  \n",
       "count  4981.000000  \n",
       "mean    206.307368  \n",
       "std      86.352449  \n",
       "min      90.000000  \n",
       "25%     112.000000  \n",
       "50%     204.000000  \n",
       "75%     285.000000  \n",
       "max     357.000000  "
      ]
     },
     "execution_count": 19,
     "metadata": {},
     "output_type": "execute_result"
    }
   ],
   "source": [
    "sales_df.describe()"
   ]
  },
  {
   "cell_type": "markdown",
   "metadata": {},
   "source": [
    "<b>4. Cleaning Data"
   ]
  },
  {
   "cell_type": "markdown",
   "metadata": {},
   "source": [
    "4.1. Membersihkan Data customers_df"
   ]
  },
  {
   "cell_type": "code",
   "execution_count": 24,
   "metadata": {},
   "outputs": [],
   "source": [
    "## drop data yang duplikat\n",
    "customer_df.drop_duplicates(inplace=True)"
   ]
  },
  {
   "cell_type": "code",
   "execution_count": 26,
   "metadata": {},
   "outputs": [
    {
     "data": {
      "text/html": [
       "<div>\n",
       "<style scoped>\n",
       "    .dataframe tbody tr th:only-of-type {\n",
       "        vertical-align: middle;\n",
       "    }\n",
       "\n",
       "    .dataframe tbody tr th {\n",
       "        vertical-align: top;\n",
       "    }\n",
       "\n",
       "    .dataframe thead th {\n",
       "        text-align: right;\n",
       "    }\n",
       "</style>\n",
       "<table border=\"1\" class=\"dataframe\">\n",
       "  <thead>\n",
       "    <tr style=\"text-align: right;\">\n",
       "      <th></th>\n",
       "      <th>customer_id</th>\n",
       "      <th>customer_name</th>\n",
       "      <th>gender</th>\n",
       "      <th>age</th>\n",
       "      <th>home_address</th>\n",
       "      <th>zip_code</th>\n",
       "      <th>city</th>\n",
       "      <th>state</th>\n",
       "      <th>country</th>\n",
       "    </tr>\n",
       "  </thead>\n",
       "  <tbody>\n",
       "    <tr>\n",
       "      <th>38</th>\n",
       "      <td>39</td>\n",
       "      <td>fulan 39</td>\n",
       "      <td>NaN</td>\n",
       "      <td>80</td>\n",
       "      <td>7440 Cameron Estate DrSuite 628</td>\n",
       "      <td>4622</td>\n",
       "      <td>North Victoriachester</td>\n",
       "      <td>Northern Territory</td>\n",
       "      <td>Australia</td>\n",
       "    </tr>\n",
       "    <tr>\n",
       "      <th>167</th>\n",
       "      <td>168</td>\n",
       "      <td>fulan 168</td>\n",
       "      <td>NaN</td>\n",
       "      <td>27</td>\n",
       "      <td>2781 Berge MallSuite 452</td>\n",
       "      <td>1975</td>\n",
       "      <td>North Leoburgh</td>\n",
       "      <td>Western Australia</td>\n",
       "      <td>Australia</td>\n",
       "    </tr>\n",
       "    <tr>\n",
       "      <th>322</th>\n",
       "      <td>322</td>\n",
       "      <td>fulan 322</td>\n",
       "      <td>NaN</td>\n",
       "      <td>30</td>\n",
       "      <td>593 Becker CircleApt. 333</td>\n",
       "      <td>1640</td>\n",
       "      <td>Jacobiview</td>\n",
       "      <td>Western Australia</td>\n",
       "      <td>Australia</td>\n",
       "    </tr>\n",
       "    <tr>\n",
       "      <th>393</th>\n",
       "      <td>393</td>\n",
       "      <td>fulan 393</td>\n",
       "      <td>NaN</td>\n",
       "      <td>34</td>\n",
       "      <td>5158 Levi HillSuite 531</td>\n",
       "      <td>1474</td>\n",
       "      <td>Johnsburgh</td>\n",
       "      <td>Queensland</td>\n",
       "      <td>Australia</td>\n",
       "    </tr>\n",
       "    <tr>\n",
       "      <th>442</th>\n",
       "      <td>442</td>\n",
       "      <td>fulan 442</td>\n",
       "      <td>NaN</td>\n",
       "      <td>26</td>\n",
       "      <td>5157 Feil RoadApt. 633</td>\n",
       "      <td>7249</td>\n",
       "      <td>Port Chloe</td>\n",
       "      <td>New South Wales</td>\n",
       "      <td>Australia</td>\n",
       "    </tr>\n",
       "    <tr>\n",
       "      <th>722</th>\n",
       "      <td>720</td>\n",
       "      <td>fulan 720</td>\n",
       "      <td>NaN</td>\n",
       "      <td>40</td>\n",
       "      <td>31 Jordan ParadeApt. 400</td>\n",
       "      <td>1380</td>\n",
       "      <td>West Henry</td>\n",
       "      <td>South Australia</td>\n",
       "      <td>Australia</td>\n",
       "    </tr>\n",
       "    <tr>\n",
       "      <th>745</th>\n",
       "      <td>743</td>\n",
       "      <td>fulan 743</td>\n",
       "      <td>NaN</td>\n",
       "      <td>57</td>\n",
       "      <td>09 Christopher StreetSuite 967</td>\n",
       "      <td>6226</td>\n",
       "      <td>Lake Lukemouth</td>\n",
       "      <td>Western Australia</td>\n",
       "      <td>Australia</td>\n",
       "    </tr>\n",
       "    <tr>\n",
       "      <th>773</th>\n",
       "      <td>771</td>\n",
       "      <td>fulan 771</td>\n",
       "      <td>NaN</td>\n",
       "      <td>74</td>\n",
       "      <td>7367 Wright JunctionApt. 773</td>\n",
       "      <td>8882</td>\n",
       "      <td>Kuhntown</td>\n",
       "      <td>Victoria</td>\n",
       "      <td>Australia</td>\n",
       "    </tr>\n",
       "    <tr>\n",
       "      <th>798</th>\n",
       "      <td>795</td>\n",
       "      <td>fulan 795</td>\n",
       "      <td>NaN</td>\n",
       "      <td>49</td>\n",
       "      <td>487 Summer MewsApt. 874</td>\n",
       "      <td>1712</td>\n",
       "      <td>East Hayden</td>\n",
       "      <td>Australian Capital Territory</td>\n",
       "      <td>Australia</td>\n",
       "    </tr>\n",
       "    <tr>\n",
       "      <th>801</th>\n",
       "      <td>798</td>\n",
       "      <td>fulan 798</td>\n",
       "      <td>NaN</td>\n",
       "      <td>56</td>\n",
       "      <td>27 Aiden KnollApt. 875</td>\n",
       "      <td>6531</td>\n",
       "      <td>Port Sam</td>\n",
       "      <td>Australian Capital Territory</td>\n",
       "      <td>Australia</td>\n",
       "    </tr>\n",
       "    <tr>\n",
       "      <th>825</th>\n",
       "      <td>822</td>\n",
       "      <td>fulan 822</td>\n",
       "      <td>NaN</td>\n",
       "      <td>59</td>\n",
       "      <td>41 Jenkins KnollSuite 438</td>\n",
       "      <td>2588</td>\n",
       "      <td>Lake Andrewport</td>\n",
       "      <td>South Australia</td>\n",
       "      <td>Australia</td>\n",
       "    </tr>\n",
       "    <tr>\n",
       "      <th>859</th>\n",
       "      <td>855</td>\n",
       "      <td>fulan 855</td>\n",
       "      <td>NaN</td>\n",
       "      <td>55</td>\n",
       "      <td>603 O'keefe KnollSuite 782</td>\n",
       "      <td>8822</td>\n",
       "      <td>Port Dylanmouth</td>\n",
       "      <td>Tasmania</td>\n",
       "      <td>Australia</td>\n",
       "    </tr>\n",
       "    <tr>\n",
       "      <th>863</th>\n",
       "      <td>859</td>\n",
       "      <td>fulan 859</td>\n",
       "      <td>NaN</td>\n",
       "      <td>38</td>\n",
       "      <td>32 Isla GroveApt. 078</td>\n",
       "      <td>7711</td>\n",
       "      <td>Rosechester</td>\n",
       "      <td>New South Wales</td>\n",
       "      <td>Australia</td>\n",
       "    </tr>\n",
       "    <tr>\n",
       "      <th>914</th>\n",
       "      <td>909</td>\n",
       "      <td>fulan 909</td>\n",
       "      <td>NaN</td>\n",
       "      <td>62</td>\n",
       "      <td>976 Murray Station StApt. 036</td>\n",
       "      <td>3227</td>\n",
       "      <td>Langfort</td>\n",
       "      <td>Tasmania</td>\n",
       "      <td>Australia</td>\n",
       "    </tr>\n",
       "    <tr>\n",
       "      <th>934</th>\n",
       "      <td>929</td>\n",
       "      <td>fulan 929</td>\n",
       "      <td>NaN</td>\n",
       "      <td>68</td>\n",
       "      <td>394 Lily HillSuite 153</td>\n",
       "      <td>2353</td>\n",
       "      <td>Beahanfurt</td>\n",
       "      <td>Northern Territory</td>\n",
       "      <td>Australia</td>\n",
       "    </tr>\n",
       "    <tr>\n",
       "      <th>948</th>\n",
       "      <td>943</td>\n",
       "      <td>fulan 943</td>\n",
       "      <td>NaN</td>\n",
       "      <td>64</td>\n",
       "      <td>3117 Heller PlaceSuite 149</td>\n",
       "      <td>822</td>\n",
       "      <td>North Elijah</td>\n",
       "      <td>South Australia</td>\n",
       "      <td>Australia</td>\n",
       "    </tr>\n",
       "    <tr>\n",
       "      <th>952</th>\n",
       "      <td>946</td>\n",
       "      <td>fulan 946</td>\n",
       "      <td>NaN</td>\n",
       "      <td>24</td>\n",
       "      <td>8227 Nicholas HillSuite 150</td>\n",
       "      <td>115</td>\n",
       "      <td>South Jasper</td>\n",
       "      <td>Queensland</td>\n",
       "      <td>Australia</td>\n",
       "    </tr>\n",
       "    <tr>\n",
       "      <th>994</th>\n",
       "      <td>988</td>\n",
       "      <td>fulan 988</td>\n",
       "      <td>NaN</td>\n",
       "      <td>35</td>\n",
       "      <td>1130 Turner Estate DrSuite 925</td>\n",
       "      <td>9386</td>\n",
       "      <td>New Harry</td>\n",
       "      <td>Western Australia</td>\n",
       "      <td>Australia</td>\n",
       "    </tr>\n",
       "  </tbody>\n",
       "</table>\n",
       "</div>"
      ],
      "text/plain": [
       "     customer_id customer_name gender  age                     home_address  \\\n",
       "38            39      fulan 39    NaN   80  7440 Cameron Estate DrSuite 628   \n",
       "167          168     fulan 168    NaN   27         2781 Berge MallSuite 452   \n",
       "322          322     fulan 322    NaN   30        593 Becker CircleApt. 333   \n",
       "393          393     fulan 393    NaN   34          5158 Levi HillSuite 531   \n",
       "442          442     fulan 442    NaN   26           5157 Feil RoadApt. 633   \n",
       "722          720     fulan 720    NaN   40         31 Jordan ParadeApt. 400   \n",
       "745          743     fulan 743    NaN   57   09 Christopher StreetSuite 967   \n",
       "773          771     fulan 771    NaN   74     7367 Wright JunctionApt. 773   \n",
       "798          795     fulan 795    NaN   49          487 Summer MewsApt. 874   \n",
       "801          798     fulan 798    NaN   56           27 Aiden KnollApt. 875   \n",
       "825          822     fulan 822    NaN   59        41 Jenkins KnollSuite 438   \n",
       "859          855     fulan 855    NaN   55       603 O'keefe KnollSuite 782   \n",
       "863          859     fulan 859    NaN   38            32 Isla GroveApt. 078   \n",
       "914          909     fulan 909    NaN   62    976 Murray Station StApt. 036   \n",
       "934          929     fulan 929    NaN   68           394 Lily HillSuite 153   \n",
       "948          943     fulan 943    NaN   64       3117 Heller PlaceSuite 149   \n",
       "952          946     fulan 946    NaN   24      8227 Nicholas HillSuite 150   \n",
       "994          988     fulan 988    NaN   35   1130 Turner Estate DrSuite 925   \n",
       "\n",
       "     zip_code                   city                         state    country  \n",
       "38       4622  North Victoriachester            Northern Territory  Australia  \n",
       "167      1975         North Leoburgh             Western Australia  Australia  \n",
       "322      1640             Jacobiview             Western Australia  Australia  \n",
       "393      1474             Johnsburgh                    Queensland  Australia  \n",
       "442      7249             Port Chloe               New South Wales  Australia  \n",
       "722      1380             West Henry               South Australia  Australia  \n",
       "745      6226         Lake Lukemouth             Western Australia  Australia  \n",
       "773      8882               Kuhntown                      Victoria  Australia  \n",
       "798      1712            East Hayden  Australian Capital Territory  Australia  \n",
       "801      6531               Port Sam  Australian Capital Territory  Australia  \n",
       "825      2588        Lake Andrewport               South Australia  Australia  \n",
       "859      8822        Port Dylanmouth                      Tasmania  Australia  \n",
       "863      7711            Rosechester               New South Wales  Australia  \n",
       "914      3227               Langfort                      Tasmania  Australia  \n",
       "934      2353             Beahanfurt            Northern Territory  Australia  \n",
       "948       822           North Elijah               South Australia  Australia  \n",
       "952       115           South Jasper                    Queensland  Australia  \n",
       "994      9386              New Harry             Western Australia  Australia  "
      ]
     },
     "execution_count": 26,
     "metadata": {},
     "output_type": "execute_result"
    }
   ],
   "source": [
    "## Menangani missing value\n",
    "\n",
    "## melihat data yang mengandung missing value tersebut menggunakan teknik filtering\n",
    "customer_df[customer_df.gender.isna()]"
   ]
  },
  {
   "cell_type": "markdown",
   "metadata": {},
   "source": [
    "Karna data diatas masih mengandung informasi yang penting, maka sayang untuk di hapus, oleh karena itu, kita atasi missing valuenya dengan metode imputation.\n",
    "Kita akan menggunakan nilai yang dominan sebagai pengganti missing value"
   ]
  },
  {
   "cell_type": "code",
   "execution_count": 34,
   "metadata": {},
   "outputs": [
    {
     "data": {
      "text/plain": [
       "gender\n",
       "Prefer not to say    731\n",
       "Male                 143\n",
       "Female               115\n",
       "Name: count, dtype: int64"
      ]
     },
     "execution_count": 34,
     "metadata": {},
     "output_type": "execute_result"
    }
   ],
   "source": [
    "# metode imputation untuk menangani missing value.\n",
    "## Cari nilai yang dominan\n",
    "customer_df.gender.value_counts()"
   ]
  },
  {
   "cell_type": "code",
   "execution_count": 36,
   "metadata": {},
   "outputs": [],
   "source": [
    "# isi missing value dengan nilai yang dominan\n",
    "customer_df.fillna(value=\"Prefer not to say\", inplace=True)"
   ]
  },
  {
   "cell_type": "code",
   "execution_count": 37,
   "metadata": {},
   "outputs": [
    {
     "data": {
      "text/plain": [
       "customer_id      0\n",
       "customer_name    0\n",
       "gender           0\n",
       "age              0\n",
       "home_address     0\n",
       "zip_code         0\n",
       "city             0\n",
       "state            0\n",
       "country          0\n",
       "dtype: int64"
      ]
     },
     "execution_count": 37,
     "metadata": {},
     "output_type": "execute_result"
    }
   ],
   "source": [
    "## cetak kembali jumlah data yang hilang\n",
    "customer_df.isna().sum()"
   ]
  },
  {
   "cell_type": "markdown",
   "metadata": {},
   "source": [
    "Menangani inaccurate value"
   ]
  },
  {
   "cell_type": "code",
   "execution_count": 40,
   "metadata": {},
   "outputs": [
    {
     "data": {
      "text/html": [
       "<div>\n",
       "<style scoped>\n",
       "    .dataframe tbody tr th:only-of-type {\n",
       "        vertical-align: middle;\n",
       "    }\n",
       "\n",
       "    .dataframe tbody tr th {\n",
       "        vertical-align: top;\n",
       "    }\n",
       "\n",
       "    .dataframe thead th {\n",
       "        text-align: right;\n",
       "    }\n",
       "</style>\n",
       "<table border=\"1\" class=\"dataframe\">\n",
       "  <thead>\n",
       "    <tr style=\"text-align: right;\">\n",
       "      <th></th>\n",
       "      <th>customer_id</th>\n",
       "      <th>customer_name</th>\n",
       "      <th>gender</th>\n",
       "      <th>age</th>\n",
       "      <th>home_address</th>\n",
       "      <th>zip_code</th>\n",
       "      <th>city</th>\n",
       "      <th>state</th>\n",
       "      <th>country</th>\n",
       "    </tr>\n",
       "  </thead>\n",
       "  <tbody>\n",
       "    <tr>\n",
       "      <th>967</th>\n",
       "      <td>961</td>\n",
       "      <td>fulan 961</td>\n",
       "      <td>Prefer not to say</td>\n",
       "      <td>700</td>\n",
       "      <td>29 Farrell ParadeSuite 818</td>\n",
       "      <td>6528</td>\n",
       "      <td>New Joseph</td>\n",
       "      <td>South Australia</td>\n",
       "      <td>Australia</td>\n",
       "    </tr>\n",
       "  </tbody>\n",
       "</table>\n",
       "</div>"
      ],
      "text/plain": [
       "     customer_id customer_name             gender  age  \\\n",
       "967          961     fulan 961  Prefer not to say  700   \n",
       "\n",
       "                   home_address  zip_code        city            state  \\\n",
       "967  29 Farrell ParadeSuite 818      6528  New Joseph  South Australia   \n",
       "\n",
       "       country  \n",
       "967  Australia  "
      ]
     },
     "execution_count": 40,
     "metadata": {},
     "output_type": "execute_result"
    }
   ],
   "source": [
    "## cek baris mana yang mengandung inaccurate value\n",
    "customer_df[customer_df.age==customer_df.age.max()]"
   ]
  },
  {
   "cell_type": "markdown",
   "metadata": {},
   "source": [
    "Kita nisa melihat bahwa nilai age yang tidak akurat itu  adalah 700.Bisa kita simpulkan bahwa ini adalah human error, yang harusnya 70 jadi 700 sehingga kita bisa menggantinya dengan 70"
   ]
  },
  {
   "cell_type": "code",
   "execution_count": 41,
   "metadata": {},
   "outputs": [],
   "source": [
    "## ganti yang menganadung inaccurate value dengan nilai yang valid\n",
    "customer_df.age.replace(customer_df.age.max(), 70, inplace=True)"
   ]
  },
  {
   "cell_type": "code",
   "execution_count": 45,
   "metadata": {},
   "outputs": [
    {
     "data": {
      "text/html": [
       "<div>\n",
       "<style scoped>\n",
       "    .dataframe tbody tr th:only-of-type {\n",
       "        vertical-align: middle;\n",
       "    }\n",
       "\n",
       "    .dataframe tbody tr th {\n",
       "        vertical-align: top;\n",
       "    }\n",
       "\n",
       "    .dataframe thead th {\n",
       "        text-align: right;\n",
       "    }\n",
       "</style>\n",
       "<table border=\"1\" class=\"dataframe\">\n",
       "  <thead>\n",
       "    <tr style=\"text-align: right;\">\n",
       "      <th></th>\n",
       "      <th>customer_id</th>\n",
       "      <th>customer_name</th>\n",
       "      <th>gender</th>\n",
       "      <th>age</th>\n",
       "      <th>home_address</th>\n",
       "      <th>zip_code</th>\n",
       "      <th>city</th>\n",
       "      <th>state</th>\n",
       "      <th>country</th>\n",
       "    </tr>\n",
       "  </thead>\n",
       "  <tbody>\n",
       "    <tr>\n",
       "      <th>215</th>\n",
       "      <td>216</td>\n",
       "      <td>fulan 216</td>\n",
       "      <td>Prefer not to say</td>\n",
       "      <td>500</td>\n",
       "      <td>038 Haley MewsApt. 810</td>\n",
       "      <td>3991</td>\n",
       "      <td>Bayertown</td>\n",
       "      <td>Northern Territory</td>\n",
       "      <td>Australia</td>\n",
       "    </tr>\n",
       "  </tbody>\n",
       "</table>\n",
       "</div>"
      ],
      "text/plain": [
       "     customer_id customer_name             gender  age  \\\n",
       "215          216     fulan 216  Prefer not to say  500   \n",
       "\n",
       "               home_address  zip_code       city               state  \\\n",
       "215  038 Haley MewsApt. 810      3991  Bayertown  Northern Territory   \n",
       "\n",
       "       country  \n",
       "215  Australia  "
      ]
     },
     "execution_count": 45,
     "metadata": {},
     "output_type": "execute_result"
    }
   ],
   "source": [
    "# cek apakah masih ada yg tidak akurat\n",
    "customer_df[customer_df.age == customer_df.age.max()]"
   ]
  },
  {
   "cell_type": "code",
   "execution_count": 46,
   "metadata": {},
   "outputs": [],
   "source": [
    "## ganti yang menganadung inaccurate value dengan nilai yang valid\n",
    "customer_df.age.replace(customer_df.age.max(), 50, inplace=True)"
   ]
  },
  {
   "cell_type": "code",
   "execution_count": 48,
   "metadata": {},
   "outputs": [
    {
     "data": {
      "text/html": [
       "<div>\n",
       "<style scoped>\n",
       "    .dataframe tbody tr th:only-of-type {\n",
       "        vertical-align: middle;\n",
       "    }\n",
       "\n",
       "    .dataframe tbody tr th {\n",
       "        vertical-align: top;\n",
       "    }\n",
       "\n",
       "    .dataframe thead th {\n",
       "        text-align: right;\n",
       "    }\n",
       "</style>\n",
       "<table border=\"1\" class=\"dataframe\">\n",
       "  <thead>\n",
       "    <tr style=\"text-align: right;\">\n",
       "      <th></th>\n",
       "      <th>customer_id</th>\n",
       "      <th>age</th>\n",
       "      <th>zip_code</th>\n",
       "    </tr>\n",
       "  </thead>\n",
       "  <tbody>\n",
       "    <tr>\n",
       "      <th>count</th>\n",
       "      <td>1007.000000</td>\n",
       "      <td>1007.000000</td>\n",
       "      <td>1007.000000</td>\n",
       "    </tr>\n",
       "    <tr>\n",
       "      <th>mean</th>\n",
       "      <td>501.726912</td>\n",
       "      <td>49.857001</td>\n",
       "      <td>5012.538232</td>\n",
       "    </tr>\n",
       "    <tr>\n",
       "      <th>std</th>\n",
       "      <td>288.673238</td>\n",
       "      <td>17.641262</td>\n",
       "      <td>2885.836112</td>\n",
       "    </tr>\n",
       "    <tr>\n",
       "      <th>min</th>\n",
       "      <td>1.000000</td>\n",
       "      <td>20.000000</td>\n",
       "      <td>2.000000</td>\n",
       "    </tr>\n",
       "    <tr>\n",
       "      <th>25%</th>\n",
       "      <td>252.500000</td>\n",
       "      <td>34.000000</td>\n",
       "      <td>2403.500000</td>\n",
       "    </tr>\n",
       "    <tr>\n",
       "      <th>50%</th>\n",
       "      <td>502.000000</td>\n",
       "      <td>50.000000</td>\n",
       "      <td>5087.000000</td>\n",
       "    </tr>\n",
       "    <tr>\n",
       "      <th>75%</th>\n",
       "      <td>751.500000</td>\n",
       "      <td>64.500000</td>\n",
       "      <td>7493.500000</td>\n",
       "    </tr>\n",
       "    <tr>\n",
       "      <th>max</th>\n",
       "      <td>1000.000000</td>\n",
       "      <td>80.000000</td>\n",
       "      <td>9998.000000</td>\n",
       "    </tr>\n",
       "  </tbody>\n",
       "</table>\n",
       "</div>"
      ],
      "text/plain": [
       "       customer_id          age     zip_code\n",
       "count  1007.000000  1007.000000  1007.000000\n",
       "mean    501.726912    49.857001  5012.538232\n",
       "std     288.673238    17.641262  2885.836112\n",
       "min       1.000000    20.000000     2.000000\n",
       "25%     252.500000    34.000000  2403.500000\n",
       "50%     502.000000    50.000000  5087.000000\n",
       "75%     751.500000    64.500000  7493.500000\n",
       "max    1000.000000    80.000000  9998.000000"
      ]
     },
     "execution_count": 48,
     "metadata": {},
     "output_type": "execute_result"
    }
   ],
   "source": [
    "customer_df.describe()"
   ]
  },
  {
   "cell_type": "markdown",
   "metadata": {},
   "source": [
    "4.2. Membersihkan Data orders_df"
   ]
  },
  {
   "cell_type": "markdown",
   "metadata": {},
   "source": [
    "Masalah yang ada pada data order_df adalah kesalahan tipe data.Untuk mengatasi masalah ini, kita akan mengganti tipe data pada kolom order_date & delivery_date menjadi datetime"
   ]
  },
  {
   "cell_type": "code",
   "execution_count": 49,
   "metadata": {},
   "outputs": [],
   "source": [
    "# ganti tipe data order_date dan delivery_date menjadi tipe data datetime\n",
    "date_columns = ['order_date', 'delivery_date']\n",
    "\n",
    "for col in date_columns:\n",
    "    orders_df[col] = pd.to_datetime(orders_df[col])"
   ]
  },
  {
   "cell_type": "code",
   "execution_count": 50,
   "metadata": {},
   "outputs": [
    {
     "name": "stdout",
     "output_type": "stream",
     "text": [
      "<class 'pandas.core.frame.DataFrame'>\n",
      "RangeIndex: 1000 entries, 0 to 999\n",
      "Data columns (total 5 columns):\n",
      " #   Column         Non-Null Count  Dtype         \n",
      "---  ------         --------------  -----         \n",
      " 0   order_id       1000 non-null   int64         \n",
      " 1   customer_id    1000 non-null   int64         \n",
      " 2   payment        1000 non-null   int64         \n",
      " 3   order_date     1000 non-null   datetime64[ns]\n",
      " 4   delivery_date  1000 non-null   datetime64[ns]\n",
      "dtypes: datetime64[ns](2), int64(3)\n",
      "memory usage: 39.2 KB\n"
     ]
    }
   ],
   "source": [
    "orders_df.info()"
   ]
  },
  {
   "cell_type": "markdown",
   "metadata": {},
   "source": [
    "4.3. Membersihkan data yang ada pada product_df"
   ]
  },
  {
   "cell_type": "markdown",
   "metadata": {},
   "source": [
    "Pada data product_df terdapat 6 data yang terduplikasi, oleh karna itu perlu kita buang"
   ]
  },
  {
   "cell_type": "code",
   "execution_count": 51,
   "metadata": {},
   "outputs": [],
   "source": [
    "## buang data duplikat yang ada pada data product_df\n",
    "products_df.drop_duplicates(inplace=True)"
   ]
  },
  {
   "cell_type": "markdown",
   "metadata": {},
   "source": [
    "4.4. Membersihkan Data sales_df"
   ]
  },
  {
   "cell_type": "markdown",
   "metadata": {},
   "source": [
    "Pada data sales_df, terdapat 19 missing value pada kolom total_price."
   ]
  },
  {
   "cell_type": "code",
   "execution_count": 54,
   "metadata": {},
   "outputs": [
    {
     "data": {
      "text/html": [
       "<div>\n",
       "<style scoped>\n",
       "    .dataframe tbody tr th:only-of-type {\n",
       "        vertical-align: middle;\n",
       "    }\n",
       "\n",
       "    .dataframe tbody tr th {\n",
       "        vertical-align: top;\n",
       "    }\n",
       "\n",
       "    .dataframe thead th {\n",
       "        text-align: right;\n",
       "    }\n",
       "</style>\n",
       "<table border=\"1\" class=\"dataframe\">\n",
       "  <thead>\n",
       "    <tr style=\"text-align: right;\">\n",
       "      <th></th>\n",
       "      <th>sales_id</th>\n",
       "      <th>order_id</th>\n",
       "      <th>product_id</th>\n",
       "      <th>price_per_unit</th>\n",
       "      <th>quantity</th>\n",
       "      <th>total_price</th>\n",
       "    </tr>\n",
       "  </thead>\n",
       "  <tbody>\n",
       "    <tr>\n",
       "      <th>9</th>\n",
       "      <td>9</td>\n",
       "      <td>2</td>\n",
       "      <td>1196</td>\n",
       "      <td>105</td>\n",
       "      <td>1</td>\n",
       "      <td>NaN</td>\n",
       "    </tr>\n",
       "    <tr>\n",
       "      <th>121</th>\n",
       "      <td>121</td>\n",
       "      <td>27</td>\n",
       "      <td>1027</td>\n",
       "      <td>90</td>\n",
       "      <td>3</td>\n",
       "      <td>NaN</td>\n",
       "    </tr>\n",
       "    <tr>\n",
       "      <th>278</th>\n",
       "      <td>278</td>\n",
       "      <td>63</td>\n",
       "      <td>360</td>\n",
       "      <td>94</td>\n",
       "      <td>2</td>\n",
       "      <td>NaN</td>\n",
       "    </tr>\n",
       "    <tr>\n",
       "      <th>421</th>\n",
       "      <td>421</td>\n",
       "      <td>95</td>\n",
       "      <td>1091</td>\n",
       "      <td>115</td>\n",
       "      <td>1</td>\n",
       "      <td>NaN</td>\n",
       "    </tr>\n",
       "    <tr>\n",
       "      <th>489</th>\n",
       "      <td>489</td>\n",
       "      <td>108</td>\n",
       "      <td>1193</td>\n",
       "      <td>105</td>\n",
       "      <td>3</td>\n",
       "      <td>NaN</td>\n",
       "    </tr>\n",
       "    <tr>\n",
       "      <th>539</th>\n",
       "      <td>539</td>\n",
       "      <td>117</td>\n",
       "      <td>405</td>\n",
       "      <td>119</td>\n",
       "      <td>2</td>\n",
       "      <td>NaN</td>\n",
       "    </tr>\n",
       "    <tr>\n",
       "      <th>636</th>\n",
       "      <td>636</td>\n",
       "      <td>134</td>\n",
       "      <td>653</td>\n",
       "      <td>93</td>\n",
       "      <td>3</td>\n",
       "      <td>NaN</td>\n",
       "    </tr>\n",
       "    <tr>\n",
       "      <th>687</th>\n",
       "      <td>687</td>\n",
       "      <td>145</td>\n",
       "      <td>1138</td>\n",
       "      <td>102</td>\n",
       "      <td>1</td>\n",
       "      <td>NaN</td>\n",
       "    </tr>\n",
       "    <tr>\n",
       "      <th>854</th>\n",
       "      <td>854</td>\n",
       "      <td>177</td>\n",
       "      <td>64</td>\n",
       "      <td>104</td>\n",
       "      <td>1</td>\n",
       "      <td>NaN</td>\n",
       "    </tr>\n",
       "    <tr>\n",
       "      <th>1079</th>\n",
       "      <td>1079</td>\n",
       "      <td>222</td>\n",
       "      <td>908</td>\n",
       "      <td>94</td>\n",
       "      <td>3</td>\n",
       "      <td>NaN</td>\n",
       "    </tr>\n",
       "    <tr>\n",
       "      <th>1193</th>\n",
       "      <td>1193</td>\n",
       "      <td>248</td>\n",
       "      <td>1121</td>\n",
       "      <td>102</td>\n",
       "      <td>2</td>\n",
       "      <td>NaN</td>\n",
       "    </tr>\n",
       "    <tr>\n",
       "      <th>1313</th>\n",
       "      <td>1313</td>\n",
       "      <td>272</td>\n",
       "      <td>826</td>\n",
       "      <td>117</td>\n",
       "      <td>1</td>\n",
       "      <td>NaN</td>\n",
       "    </tr>\n",
       "    <tr>\n",
       "      <th>1548</th>\n",
       "      <td>1548</td>\n",
       "      <td>316</td>\n",
       "      <td>103</td>\n",
       "      <td>118</td>\n",
       "      <td>3</td>\n",
       "      <td>NaN</td>\n",
       "    </tr>\n",
       "    <tr>\n",
       "      <th>1688</th>\n",
       "      <td>1688</td>\n",
       "      <td>345</td>\n",
       "      <td>428</td>\n",
       "      <td>107</td>\n",
       "      <td>1</td>\n",
       "      <td>NaN</td>\n",
       "    </tr>\n",
       "    <tr>\n",
       "      <th>1775</th>\n",
       "      <td>1775</td>\n",
       "      <td>359</td>\n",
       "      <td>694</td>\n",
       "      <td>113</td>\n",
       "      <td>2</td>\n",
       "      <td>NaN</td>\n",
       "    </tr>\n",
       "    <tr>\n",
       "      <th>1902</th>\n",
       "      <td>1902</td>\n",
       "      <td>381</td>\n",
       "      <td>1218</td>\n",
       "      <td>105</td>\n",
       "      <td>3</td>\n",
       "      <td>NaN</td>\n",
       "    </tr>\n",
       "    <tr>\n",
       "      <th>2025</th>\n",
       "      <td>2025</td>\n",
       "      <td>408</td>\n",
       "      <td>611</td>\n",
       "      <td>112</td>\n",
       "      <td>3</td>\n",
       "      <td>NaN</td>\n",
       "    </tr>\n",
       "    <tr>\n",
       "      <th>2164</th>\n",
       "      <td>2164</td>\n",
       "      <td>436</td>\n",
       "      <td>583</td>\n",
       "      <td>100</td>\n",
       "      <td>3</td>\n",
       "      <td>NaN</td>\n",
       "    </tr>\n",
       "    <tr>\n",
       "      <th>2347</th>\n",
       "      <td>2347</td>\n",
       "      <td>476</td>\n",
       "      <td>696</td>\n",
       "      <td>113</td>\n",
       "      <td>2</td>\n",
       "      <td>NaN</td>\n",
       "    </tr>\n",
       "  </tbody>\n",
       "</table>\n",
       "</div>"
      ],
      "text/plain": [
       "      sales_id  order_id  product_id  price_per_unit  quantity  total_price\n",
       "9            9         2        1196             105         1          NaN\n",
       "121        121        27        1027              90         3          NaN\n",
       "278        278        63         360              94         2          NaN\n",
       "421        421        95        1091             115         1          NaN\n",
       "489        489       108        1193             105         3          NaN\n",
       "539        539       117         405             119         2          NaN\n",
       "636        636       134         653              93         3          NaN\n",
       "687        687       145        1138             102         1          NaN\n",
       "854        854       177          64             104         1          NaN\n",
       "1079      1079       222         908              94         3          NaN\n",
       "1193      1193       248        1121             102         2          NaN\n",
       "1313      1313       272         826             117         1          NaN\n",
       "1548      1548       316         103             118         3          NaN\n",
       "1688      1688       345         428             107         1          NaN\n",
       "1775      1775       359         694             113         2          NaN\n",
       "1902      1902       381        1218             105         3          NaN\n",
       "2025      2025       408         611             112         3          NaN\n",
       "2164      2164       436         583             100         3          NaN\n",
       "2347      2347       476         696             113         2          NaN"
      ]
     },
     "execution_count": 54,
     "metadata": {},
     "output_type": "execute_result"
    }
   ],
   "source": [
    "# Cek baris mana yang missing value\n",
    "sales_df[sales_df.isna().any(axis=1)]"
   ]
  },
  {
   "cell_type": "markdown",
   "metadata": {},
   "source": [
    "Berdasarkan tampilan data yg ada pada sales_df, kita menemukan bahwa nilai total_price merupakan hasil perkalian antara price_per_unit dan quantity. Kita dapat menggunakan pola ini untuk menangani missing value pada kolom total_price."
   ]
  },
  {
   "cell_type": "code",
   "execution_count": 55,
   "metadata": {},
   "outputs": [],
   "source": [
    "sales_df[\"total_price\"] = sales_df[\"price_per_unit\"] * sales_df[\"quantity\"]"
   ]
  },
  {
   "cell_type": "code",
   "execution_count": 57,
   "metadata": {},
   "outputs": [
    {
     "data": {
      "text/plain": [
       "sales_id          0\n",
       "order_id          0\n",
       "product_id        0\n",
       "price_per_unit    0\n",
       "quantity          0\n",
       "total_price       0\n",
       "dtype: int64"
      ]
     },
     "execution_count": 57,
     "metadata": {},
     "output_type": "execute_result"
    }
   ],
   "source": [
    "sales_df.isna().sum()"
   ]
  }
 ],
 "metadata": {
  "kernelspec": {
   "display_name": "wrangling",
   "language": "python",
   "name": "python3"
  },
  "language_info": {
   "codemirror_mode": {
    "name": "ipython",
    "version": 3
   },
   "file_extension": ".py",
   "mimetype": "text/x-python",
   "name": "python",
   "nbconvert_exporter": "python",
   "pygments_lexer": "ipython3",
   "version": "3.10.4"
  }
 },
 "nbformat": 4,
 "nbformat_minor": 2
}
